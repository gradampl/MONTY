{
 "cells": [
  {
   "cell_type": "code",
   "execution_count": 1,
   "metadata": {},
   "outputs": [],
   "source": [
    "fullNames = []\n",
    "fullName = \"\"\n",
    "\n",
    "with open(r'imagesNames.txt', 'r') as file_reader:\n",
    "    for row in file_reader:\n",
    "        fullName=row\n",
    "        fullNames.append(row)\n",
    "         \n",
    "#         print(row, end='')"
   ]
  },
  {
   "cell_type": "code",
   "execution_count": 2,
   "metadata": {},
   "outputs": [],
   "source": [
    "listName = \"\"\n",
    "listNames = []\n",
    "for i in range (0,9):\n",
    "    listName = fullNames[i][2:]   \n",
    "    listNames.append(listName)\n",
    "#     print(i)"
   ]
  },
  {
   "cell_type": "code",
   "execution_count": 3,
   "metadata": {},
   "outputs": [
    {
     "name": "stdout",
     "output_type": "stream",
     "text": [
      "001.Black_footed_Albatross/Black_Footed_Albatross_0046_18.jpg\n",
      "\n",
      "001.Black_footed_Albatross/Black_Footed_Albatross_0009_34.jpg\n",
      "\n",
      "001.Black_footed_Albatross/Black_Footed_Albatross_0002_55.jpg\n",
      "\n",
      "001.Black_footed_Albatross/Black_Footed_Albatross_0074_59.jpg\n",
      "\n",
      "001.Black_footed_Albatross/Black_Footed_Albatross_0014_89.jpg\n",
      "\n",
      "001.Black_footed_Albatross/Black_Footed_Albatross_0085_92.jpg\n",
      "\n",
      "001.Black_footed_Albatross/Black_Footed_Albatross_0031_100.jpg\n",
      "\n",
      "001.Black_footed_Albatross/Black_Footed_Albatross_0051_796103.jpg\n",
      "\n",
      "001.Black_footed_Albatross/Black_Footed_Albatross_0010_796097.jpg\n",
      "\n"
     ]
    }
   ],
   "source": [
    "for i in range (0,9):      \n",
    "    print(listNames[i])"
   ]
  },
  {
   "cell_type": "code",
   "execution_count": 4,
   "metadata": {},
   "outputs": [],
   "source": [
    "for i in range (9,60):\n",
    "    listName = fullNames[i][3:]   \n",
    "    listNames.append(listName)\n",
    "#     print(i)"
   ]
  },
  {
   "cell_type": "code",
   "execution_count": 101,
   "metadata": {},
   "outputs": [],
   "source": [
    "# for i in range (9,60):      \n",
    "#     print(listNames[i])"
   ]
  },
  {
   "cell_type": "code",
   "execution_count": 6,
   "metadata": {},
   "outputs": [
    {
     "name": "stdout",
     "output_type": "stream",
     "text": [
      "60\n"
     ]
    }
   ],
   "source": [
    "print(len(listNames))"
   ]
  },
  {
   "cell_type": "code",
   "execution_count": 7,
   "metadata": {},
   "outputs": [],
   "source": [
    "file = open(r'imagesNames1.txt', 'w', encoding='utf-8')\n",
    "for i in range(0,60):\n",
    "    file.write(listNames[i])\n",
    "file.close()"
   ]
  },
  {
   "cell_type": "code",
   "execution_count": 99,
   "metadata": {
    "scrolled": false
   },
   "outputs": [],
   "source": [
    "counter = 0\n",
    "with open(r'imagesNames1.txt', 'r') as file_reader:\n",
    "    for row in file_reader:\n",
    "        counter = counter + 1\n",
    "                \n",
    "#         print(row, end='')"
   ]
  },
  {
   "cell_type": "code",
   "execution_count": 10,
   "metadata": {},
   "outputs": [
    {
     "name": "stdout",
     "output_type": "stream",
     "text": [
      "60\n"
     ]
    }
   ],
   "source": [
    "print(counter)"
   ]
  },
  {
   "cell_type": "code",
   "execution_count": 18,
   "metadata": {},
   "outputs": [],
   "source": [
    "from PIL import Image, ImageOps"
   ]
  },
  {
   "cell_type": "code",
   "execution_count": 100,
   "metadata": {
    "scrolled": false
   },
   "outputs": [],
   "source": [
    "import os\n",
    "import matplotlib.pyplot as plt"
   ]
  },
  {
   "cell_type": "code",
   "execution_count": 98,
   "metadata": {
    "scrolled": false
   },
   "outputs": [],
   "source": [
    "newName = \"\"\n",
    "\n",
    "for i in range (0,60):\n",
    "    if listNames[i][len(listNames[i])-1] == \"\\n\":\n",
    "        name = str(listNames[i][0:len(listNames[i])-1])\n",
    "    else:\n",
    "        name = str(listNames[i])\n",
    "    original_image = Image.open(name)\n",
    "    size = (512, 512)\n",
    "    fit_and_resized_image = ImageOps.fit(original_image, size, Image.ANTIALIAS)\n",
    "    newName = str(listNames[i][27:len(listNames[i])-5])\n",
    "    newFile = '001.Bl/' + str(newName) + '.jpg'\n",
    "    fit_and_resized_image.save(newFile, 'JPEG')"
   ]
  },
  {
   "cell_type": "code",
   "execution_count": null,
   "metadata": {},
   "outputs": [],
   "source": []
  },
  {
   "cell_type": "code",
   "execution_count": null,
   "metadata": {},
   "outputs": [],
   "source": []
  }
 ],
 "metadata": {
  "kernelspec": {
   "display_name": "Python 3",
   "language": "python",
   "name": "python3"
  },
  "language_info": {
   "codemirror_mode": {
    "name": "ipython",
    "version": 3
   },
   "file_extension": ".py",
   "mimetype": "text/x-python",
   "name": "python",
   "nbconvert_exporter": "python",
   "pygments_lexer": "ipython3",
   "version": "3.7.6"
  }
 },
 "nbformat": 4,
 "nbformat_minor": 4
}
